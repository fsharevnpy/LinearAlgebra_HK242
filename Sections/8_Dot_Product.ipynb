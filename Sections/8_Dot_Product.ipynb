{
 "cells": [
  {
   "cell_type": "markdown",
   "id": "0353b400",
   "metadata": {},
   "source": [
    "# 8. Dot Product\n",
    "From [D2L.ai Linear Algebra](https://d2l.ai/chapter_preliminaries/linear-algebra.html)\n",
    "\n",
    "---\n"
   ]
  },
  {
   "cell_type": "markdown",
   "id": "e061cc15",
   "metadata": {},
   "source": [
    "In practice, the dot product can be computed in multiple equivalent ways. For example, using PyTorch:"
   ]
  },
  {
   "cell_type": "code",
   "execution_count": 3,
   "id": "cd6ae3df",
   "metadata": {},
   "outputs": [
    {
     "name": "stdout",
     "output_type": "stream",
     "text": [
      "tensor(3.)\n"
     ]
    }
   ],
   "source": [
    "import torch\n",
    "x = torch.tensor([0., 1., 2.])\n",
    "y = torch.ones(3, dtype=torch.float32)\n",
    "result = torch.dot(x, y)\n",
    "print(result)"
   ]
  },
  {
   "cell_type": "markdown",
   "id": "5ece2fff",
   "metadata": {},
   "source": [
    "Alternatively, we can obtain this result by:"
   ]
  },
  {
   "cell_type": "code",
   "execution_count": 4,
   "id": "06e57f49",
   "metadata": {},
   "outputs": [
    {
     "name": "stdout",
     "output_type": "stream",
     "text": [
      "tensor(3.)\n"
     ]
    }
   ],
   "source": [
    "result = torch.sum(x * y)\n",
    "print(result)"
   ]
  }
 ],
 "metadata": {
  "kernelspec": {
   "display_name": "Python 3.10.12 64-bit",
   "language": "python",
   "name": "python3"
  },
  "language_info": {
   "codemirror_mode": {
    "name": "ipython",
    "version": 3
   },
   "file_extension": ".py",
   "mimetype": "text/x-python",
   "name": "python",
   "nbconvert_exporter": "python",
   "pygments_lexer": "ipython3",
   "version": "3.10.12"
  },
  "vscode": {
   "interpreter": {
    "hash": "e7370f93d1d0cde622a1f8e1c04877d8463912d04d973331ad4851f04de6915a"
   }
  }
 },
 "nbformat": 4,
 "nbformat_minor": 5
}
