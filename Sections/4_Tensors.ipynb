{
 "cells": [
  {
   "cell_type": "markdown",
   "id": "1e060ac6",
   "metadata": {},
   "source": [
    "# 4. Tensors\n",
    "From [D2L.ai Linear Algebra](https://d2l.ai/chapter_preliminaries/linear-algebra.html)\n",
    "\n",
    "---\n"
   ]
  },
  {
   "cell_type": "code",
   "execution_count": 2,
   "id": "503d3aa3",
   "metadata": {},
   "outputs": [],
   "source": [
    "import torch"
   ]
  },
  {
   "cell_type": "markdown",
   "id": "fb78ec15",
   "metadata": {},
   "source": [
    "Tensors can be implemented as the following examples"
   ]
  },
  {
   "cell_type": "code",
   "execution_count": 3,
   "id": "aec88eb4",
   "metadata": {},
   "outputs": [],
   "source": [
    "# Scalar (0D tensor)\n",
    "a = torch.tensor(3.14)\n",
    "# Vector (1D tensor)\n",
    "b = torch.tensor([1.0, 2.0, 3.0])\n",
    "# Matrix (2D tensor)\n",
    "c = torch.tensor([[1, 2], [3, 4]])\n",
    "# 3D Tensor: 2 matrices of shape (2x2)\n",
    "d = torch.tensor([[[1, 2], [3, 4]],\n",
    "[[5, 6], [7, 8]]])"
   ]
  }
 ],
 "metadata": {
  "kernelspec": {
   "display_name": "Python 3.10.12 64-bit",
   "language": "python",
   "name": "python3"
  },
  "language_info": {
   "codemirror_mode": {
    "name": "ipython",
    "version": 3
   },
   "file_extension": ".py",
   "mimetype": "text/x-python",
   "name": "python",
   "nbconvert_exporter": "python",
   "pygments_lexer": "ipython3",
   "version": "3.10.12"
  },
  "vscode": {
   "interpreter": {
    "hash": "e7370f93d1d0cde622a1f8e1c04877d8463912d04d973331ad4851f04de6915a"
   }
  }
 },
 "nbformat": 4,
 "nbformat_minor": 5
}
