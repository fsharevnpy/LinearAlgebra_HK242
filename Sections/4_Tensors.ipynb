{
 "cells": [
  {
   "cell_type": "markdown",
   "id": "1e060ac6",
   "metadata": {},
   "source": [
    "# 4. Tensors\n",
    "From [D2L.ai Linear Algebra](https://d2l.ai/chapter_preliminaries/linear-algebra.html)\n",
    "\n",
    "---\n"
   ]
  },
  {
   "cell_type": "code",
   "execution_count": 3,
   "id": "503d3aa3",
   "metadata": {},
   "outputs": [],
   "source": [
    "import torch"
   ]
  },
  {
   "cell_type": "markdown",
   "id": "fb78ec15",
   "metadata": {},
   "source": [
    "Tensors can be implemented as the following examples"
   ]
  },
  {
   "cell_type": "markdown",
   "id": "da8ea691",
   "metadata": {},
   "source": [
    "- Scalar (0D tensor)"
   ]
  },
  {
   "cell_type": "code",
   "execution_count": 4,
   "id": "7dbdb558",
   "metadata": {},
   "outputs": [
    {
     "name": "stdout",
     "output_type": "stream",
     "text": [
      "tensor(3.1400)\n"
     ]
    }
   ],
   "source": [
    "a = torch.tensor(3.14)\n",
    "print(a)"
   ]
  },
  {
   "cell_type": "markdown",
   "id": "2e59e735",
   "metadata": {},
   "source": [
    "- Vector (1D tensor)"
   ]
  },
  {
   "cell_type": "code",
   "execution_count": 5,
   "id": "0a534ad4",
   "metadata": {},
   "outputs": [
    {
     "name": "stdout",
     "output_type": "stream",
     "text": [
      "tensor([1., 2., 3.])\n"
     ]
    }
   ],
   "source": [
    "b = torch.tensor([1.0, 2.0, 3.0])\n",
    "print(b)"
   ]
  },
  {
   "cell_type": "markdown",
   "id": "88d870a4",
   "metadata": {},
   "source": [
    "- Matrix (2D tensor)"
   ]
  },
  {
   "cell_type": "code",
   "execution_count": 6,
   "id": "3ee95207",
   "metadata": {},
   "outputs": [
    {
     "name": "stdout",
     "output_type": "stream",
     "text": [
      "tensor([[1, 2],\n",
      "        [3, 4]])\n"
     ]
    }
   ],
   "source": [
    "c = torch.tensor([[1, 2], [3, 4]])\n",
    "print(c)"
   ]
  },
  {
   "cell_type": "markdown",
   "id": "ea9c5fb4",
   "metadata": {},
   "source": [
    "- 3D Tensor: 2 matrices of shape (2x2)"
   ]
  },
  {
   "cell_type": "code",
   "execution_count": 7,
   "id": "1ac3ea5f",
   "metadata": {},
   "outputs": [
    {
     "name": "stdout",
     "output_type": "stream",
     "text": [
      "tensor([[[1, 2],\n",
      "         [3, 4]],\n",
      "\n",
      "        [[5, 6],\n",
      "         [7, 8]]])\n"
     ]
    }
   ],
   "source": [
    "d = torch.tensor([[[1, 2], [3, 4]],\n",
    "[[5, 6], [7, 8]]])\n",
    "print(d)"
   ]
  }
 ],
 "metadata": {
  "kernelspec": {
   "display_name": "Python 3.10.12 64-bit",
   "language": "python",
   "name": "python3"
  },
  "language_info": {
   "codemirror_mode": {
    "name": "ipython",
    "version": 3
   },
   "file_extension": ".py",
   "mimetype": "text/x-python",
   "name": "python",
   "nbconvert_exporter": "python",
   "pygments_lexer": "ipython3",
   "version": "3.10.12"
  },
  "vscode": {
   "interpreter": {
    "hash": "e7370f93d1d0cde622a1f8e1c04877d8463912d04d973331ad4851f04de6915a"
   }
  }
 },
 "nbformat": 4,
 "nbformat_minor": 5
}
