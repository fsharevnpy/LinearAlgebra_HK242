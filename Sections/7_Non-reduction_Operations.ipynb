{
 "cells": [
  {
   "cell_type": "markdown",
   "id": "029aa939",
   "metadata": {},
   "source": [
    "# 7. Non-reduction Operations\n",
    "From [D2L.ai Linear Algebra](https://d2l.ai/chapter_preliminaries/linear-algebra.html)\n",
    "\n",
    "---\n"
   ]
  },
  {
   "cell_type": "code",
   "execution_count": 1,
   "id": "4a164a67",
   "metadata": {},
   "outputs": [],
   "source": [
    "import torch"
   ]
  },
  {
   "cell_type": "markdown",
   "id": "b8417a35",
   "metadata": {},
   "source": [
    "Consider a tensor A defined as follows:"
   ]
  },
  {
   "cell_type": "code",
   "execution_count": 2,
   "id": "528f2438",
   "metadata": {},
   "outputs": [
    {
     "name": "stdout",
     "output_type": "stream",
     "text": [
      "torch.Size([5, 4])\n"
     ]
    }
   ],
   "source": [
    "A = torch.tensor([[ 0, 1, 2, 3],\n",
    "[ 4, 5, 6, 7],\n",
    "[ 8, 9, 10, 11],\n",
    "[12, 13, 14, 15],\n",
    "[16, 17, 18, 19]], dtype=torch.float32)\n",
    "print( A.shape)"
   ]
  },
  {
   "cell_type": "markdown",
   "id": "e76cbb29",
   "metadata": {},
   "source": [
    "This tensor has the shape (5,4), meaning it has 5 rows (axis 0) and 4 columns (axis 1). When summing along axis 1 without specifying keepdims, the resulting shape reduces to (5,), collapsing each row into a single scalar value:"
   ]
  },
  {
   "cell_type": "code",
   "execution_count": 3,
   "id": "9fb47314",
   "metadata": {},
   "outputs": [
    {
     "name": "stdout",
     "output_type": "stream",
     "text": [
      "tensor([ 6., 22., 38., 54., 70.])\n",
      "torch.Size([5])\n"
     ]
    }
   ],
   "source": [
    "print(A.sum(axis=1))\n",
    "print(A.sum(axis=1).shape)"
   ]
  },
  {
   "cell_type": "markdown",
   "id": "2e2afd26",
   "metadata": {},
   "source": [
    "If we set keepdims=True, the summed axis remains as a dimension of size 1, resulting in shape (5,1). Keeping this dimension can be particularly useful for subsequent calculations involving broadcasting, such as row-wise normalization:"
   ]
  },
  {
   "cell_type": "code",
   "execution_count": 4,
   "id": "b1f2e066",
   "metadata": {},
   "outputs": [
    {
     "name": "stdout",
     "output_type": "stream",
     "text": [
      "tensor([[0.0000, 0.1667, 0.3333, 0.5000],\n",
      "        [0.1818, 0.2273, 0.2727, 0.3182],\n",
      "        [0.2105, 0.2368, 0.2632, 0.2895],\n",
      "        [0.2222, 0.2407, 0.2593, 0.2778],\n",
      "        [0.2286, 0.2429, 0.2571, 0.2714]])\n"
     ]
    }
   ],
   "source": [
    "sum_A = A.sum(axis=1, keepdims=True)\n",
    "print(A / sum_A)"
   ]
  },
  {
   "cell_type": "markdown",
   "id": "a4a84641",
   "metadata": {},
   "source": [
    "Another useful function, cumsum(axis), calculates the cumulative sum along the specified axis without reducing dimensions. For example, applying cumulative sum vertically (along axis 0) results in a tensor of the same shape as the original:"
   ]
  },
  {
   "cell_type": "code",
   "execution_count": 5,
   "id": "f7ab045b",
   "metadata": {},
   "outputs": [
    {
     "name": "stdout",
     "output_type": "stream",
     "text": [
      "tensor([[ 0.,  1.,  2.,  3.],\n",
      "        [ 4.,  6.,  8., 10.],\n",
      "        [12., 15., 18., 21.],\n",
      "        [24., 28., 32., 36.],\n",
      "        [40., 45., 50., 55.]])\n"
     ]
    }
   ],
   "source": [
    "print(A.cumsum(axis=0))"
   ]
  }
 ],
 "metadata": {
  "kernelspec": {
   "display_name": "Python 3.10.12 64-bit",
   "language": "python",
   "name": "python3"
  },
  "language_info": {
   "codemirror_mode": {
    "name": "ipython",
    "version": 3
   },
   "file_extension": ".py",
   "mimetype": "text/x-python",
   "name": "python",
   "nbconvert_exporter": "python",
   "pygments_lexer": "ipython3",
   "version": "3.10.12"
  },
  "vscode": {
   "interpreter": {
    "hash": "e7370f93d1d0cde622a1f8e1c04877d8463912d04d973331ad4851f04de6915a"
   }
  }
 },
 "nbformat": 4,
 "nbformat_minor": 5
}
