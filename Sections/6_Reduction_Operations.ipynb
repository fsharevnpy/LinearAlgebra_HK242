{
 "cells": [
  {
   "cell_type": "markdown",
   "id": "419849df",
   "metadata": {},
   "source": [
    "# 6. Reduction Operations\n",
    "From [D2L.ai Linear Algebra](https://d2l.ai/chapter_preliminaries/linear-algebra.html)\n",
    "\n",
    "---\n"
   ]
  },
  {
   "cell_type": "code",
   "execution_count": 5,
   "id": "dde7b128",
   "metadata": {},
   "outputs": [],
   "source": [
    "import torch"
   ]
  },
  {
   "cell_type": "markdown",
   "id": "ac30e72d",
   "metadata": {},
   "source": [
    "Reduction operations decrease the number of elements in a tensor by aggregating values, such as calculating the sum, mean, or standard deviation."
   ]
  },
  {
   "cell_type": "code",
   "execution_count": 6,
   "id": "c66bd59a",
   "metadata": {},
   "outputs": [],
   "source": [
    "# Assume we have the following rank-2 tensor of shape 3 x 3:\n",
    "A = torch.tensor([\n",
    "[0,1,0],\n",
    "[2,0,2],\n",
    "[0,3,0]\n",
    "], dtype=torch.float32)"
   ]
  },
  {
   "cell_type": "markdown",
   "id": "22f25060",
   "metadata": {},
   "source": [
    "First, let's use the simplest reduction operation, sum():"
   ]
  },
  {
   "cell_type": "code",
   "execution_count": 7,
   "id": "3f606074",
   "metadata": {},
   "outputs": [
    {
     "name": "stdout",
     "output_type": "stream",
     "text": [
      "tensor(8.)\n"
     ]
    }
   ],
   "source": [
    "print(A.sum())"
   ]
  },
  {
   "cell_type": "markdown",
   "id": "a5a7b628",
   "metadata": {},
   "source": [
    "The sum() method calculates the total of all elements, returning a tensor containing just a single scalar. We can confirm the reduction in tensor size:"
   ]
  },
  {
   "cell_type": "code",
   "execution_count": 8,
   "id": "6cd6b892",
   "metadata": {},
   "outputs": [
    {
     "name": "stdout",
     "output_type": "stream",
     "text": [
      "9\n",
      "1\n",
      "True\n"
     ]
    }
   ],
   "source": [
    "print(A.numel())\n",
    "print(A.sum().numel())\n",
    "print(A.sum().numel() <= A.numel())"
   ]
  },
  {
   "cell_type": "markdown",
   "id": "e14e7b39",
   "metadata": {},
   "source": [
    "Other common reduction operations include:"
   ]
  },
  {
   "cell_type": "code",
   "execution_count": 9,
   "id": "15c71e0e",
   "metadata": {},
   "outputs": [
    {
     "name": "stdout",
     "output_type": "stream",
     "text": [
      "tensor(8.)\n",
      "tensor(0.)\n",
      "tensor(0.8889)\n",
      "tensor(1.1667)\n"
     ]
    }
   ],
   "source": [
    "print(A.sum()) # sum of elements\n",
    "print(A.prod()) # product of elements\n",
    "print(A.mean()) # mean (average) of elements\n",
    "print(A.std()) # standard deviation of elements"
   ]
  },
  {
   "cell_type": "markdown",
   "id": "ad44e5db",
   "metadata": {},
   "source": [
    "Reduction operations don't always have to reduce tensors to a single scalar; they can also reduce tensors along specific axes:\n",
    "- Axis 0 refers to reducing along columns (vertical direction).\n",
    "- Axis 1 refers to reducing along rows (horizontal direction).\n",
    "For instance, consider a rank-2 tensor with shape 3 x 4:"
   ]
  },
  {
   "cell_type": "code",
   "execution_count": 10,
   "id": "258d9354",
   "metadata": {},
   "outputs": [],
   "source": [
    "A = torch.tensor([\n",
    "[1,1,1,1],\n",
    "[2,2,2,2],\n",
    "[3,3,3,3]\n",
    "], dtype=torch.float32)"
   ]
  },
  {
   "cell_type": "markdown",
   "id": "20f29bdd",
   "metadata": {},
   "source": [
    "Performing a sum along each column (axis=0):"
   ]
  },
  {
   "cell_type": "code",
   "execution_count": 11,
   "id": "5301eb27",
   "metadata": {},
   "outputs": [
    {
     "name": "stdout",
     "output_type": "stream",
     "text": [
      "torch.Size([3, 4])\n",
      "tensor([6., 6., 6., 6.])\n",
      "torch.Size([4])\n"
     ]
    }
   ],
   "source": [
    "print(A.shape)\n",
    "print(A.sum(axis=0))\n",
    "print(A.sum(axis=0).shape)"
   ]
  },
  {
   "cell_type": "markdown",
   "id": "418d53fa",
   "metadata": {},
   "source": [
    "Performing a sum along each row (axis=1):"
   ]
  },
  {
   "cell_type": "code",
   "execution_count": 12,
   "id": "93fd80c0",
   "metadata": {},
   "outputs": [
    {
     "name": "stdout",
     "output_type": "stream",
     "text": [
      "tensor([ 4.,  8., 12.])\n",
      "torch.Size([3])\n"
     ]
    }
   ],
   "source": [
    "print(A.sum(axis=1))\n",
    "print(A.sum(axis=1).shape)"
   ]
  },
  {
   "cell_type": "markdown",
   "id": "af145df1",
   "metadata": {},
   "source": [
    "Reducing multiple axes simultaneously produces the same result as reducing the entire tensor directly:"
   ]
  },
  {
   "cell_type": "code",
   "execution_count": 13,
   "id": "fb514e2f",
   "metadata": {},
   "outputs": [
    {
     "name": "stdout",
     "output_type": "stream",
     "text": [
      "tensor(24.)\n",
      "tensor(24.)\n"
     ]
    }
   ],
   "source": [
    "print(A.sum(axis=[0,1]))\n",
    "print(A.sum())"
   ]
  },
  {
   "cell_type": "markdown",
   "id": "378ff584",
   "metadata": {},
   "source": [
    "Similarly, computing the mean (average) of tensor elements is straightforward:"
   ]
  },
  {
   "cell_type": "code",
   "execution_count": 14,
   "id": "858f8220",
   "metadata": {},
   "outputs": [
    {
     "name": "stdout",
     "output_type": "stream",
     "text": [
      "tensor(2.)\n",
      "tensor(2.)\n"
     ]
    }
   ],
   "source": [
    "print(A.mean())\n",
    "print(A.sum() / A.numel())"
   ]
  },
  {
   "cell_type": "markdown",
   "id": "c9e06c1b",
   "metadata": {},
   "source": [
    "You can also calculate the mean along specific axes, for example:"
   ]
  },
  {
   "cell_type": "code",
   "execution_count": 15,
   "id": "85042ee1",
   "metadata": {},
   "outputs": [
    {
     "name": "stdout",
     "output_type": "stream",
     "text": [
      "tensor([2., 2., 2., 2.])\n",
      "tensor([2., 2., 2., 2.])\n",
      "tensor([1., 2., 3.])\n",
      "tensor([1., 2., 3.])\n"
     ]
    }
   ],
   "source": [
    "print(A.mean(axis=0))\n",
    "print(A.sum(axis=0) / A.shape[0])\n",
    "print(A.mean(axis=1))\n",
    "print(A.sum(axis=1) / A.shape[1])"
   ]
  }
 ],
 "metadata": {
  "kernelspec": {
   "display_name": "Python 3.10.12 64-bit",
   "language": "python",
   "name": "python3"
  },
  "language_info": {
   "codemirror_mode": {
    "name": "ipython",
    "version": 3
   },
   "file_extension": ".py",
   "mimetype": "text/x-python",
   "name": "python",
   "nbconvert_exporter": "python",
   "pygments_lexer": "ipython3",
   "version": "3.10.12"
  },
  "vscode": {
   "interpreter": {
    "hash": "e7370f93d1d0cde622a1f8e1c04877d8463912d04d973331ad4851f04de6915a"
   }
  }
 },
 "nbformat": 4,
 "nbformat_minor": 5
}
