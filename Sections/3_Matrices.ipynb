{
 "cells": [
  {
   "cell_type": "markdown",
   "id": "f920c10f",
   "metadata": {},
   "source": [
    "# 3. Matrices\n",
    "From [D2L.ai Linear Algebra](https://d2l.ai/chapter_preliminaries/linear-algebra.html)\n",
    "\n",
    "---\n"
   ]
  },
  {
   "cell_type": "code",
   "execution_count": 2,
   "id": "e75a210e",
   "metadata": {},
   "outputs": [],
   "source": [
    "import torch"
   ]
  },
  {
   "cell_type": "markdown",
   "id": "666785d5",
   "metadata": {},
   "source": [
    "Create a 1D tensor with values [0, 1, 2, 3, 4, 5], then reshape it into a 2D tensor with 3 rows and 2 columns"
   ]
  },
  {
   "cell_type": "code",
   "execution_count": 3,
   "id": "aeb06290",
   "metadata": {},
   "outputs": [],
   "source": [
    "A = torch.arange(6).reshape(3, 2)"
   ]
  },
  {
   "cell_type": "markdown",
   "id": "68501668",
   "metadata": {},
   "source": [
    "Transpose matrix by A.T expression"
   ]
  },
  {
   "cell_type": "code",
   "execution_count": null,
   "id": "c7a790fd",
   "metadata": {},
   "outputs": [],
   "source": [
    "A.T"
   ]
  }
 ],
 "metadata": {
  "kernelspec": {
   "display_name": "Python 3.10.12 64-bit",
   "language": "python",
   "name": "python3"
  },
  "language_info": {
   "codemirror_mode": {
    "name": "ipython",
    "version": 3
   },
   "file_extension": ".py",
   "mimetype": "text/x-python",
   "name": "python",
   "nbconvert_exporter": "python",
   "pygments_lexer": "ipython3",
   "version": "3.10.12"
  },
  "vscode": {
   "interpreter": {
    "hash": "e7370f93d1d0cde622a1f8e1c04877d8463912d04d973331ad4851f04de6915a"
   }
  }
 },
 "nbformat": 4,
 "nbformat_minor": 5
}
