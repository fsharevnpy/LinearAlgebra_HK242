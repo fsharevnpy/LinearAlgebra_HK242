{
 "cells": [
  {
   "cell_type": "markdown",
   "id": "56688cec",
   "metadata": {},
   "source": [
    "# 10. Matrix–Matrix Multiplication\n",
    "From [D2L.ai Linear Algebra](https://d2l.ai/chapter_preliminaries/linear-algebra.html)\n",
    "\n",
    "---\n"
   ]
  },
  {
   "cell_type": "code",
   "execution_count": 7,
   "id": "2c1050c5",
   "metadata": {},
   "outputs": [],
   "source": [
    "import torch"
   ]
  },
  {
   "cell_type": "markdown",
   "id": "e8da5611",
   "metadata": {},
   "source": [
    "Initialize two matrices A and B:"
   ]
  },
  {
   "cell_type": "code",
   "execution_count": 8,
   "id": "ca4f2e6b",
   "metadata": {},
   "outputs": [
    {
     "name": "stdout",
     "output_type": "stream",
     "text": [
      "tensor([[0, 1, 2],\n",
      "        [3, 4, 5]])\n",
      "tensor([[1, 2],\n",
      "        [3, 4],\n",
      "        [5, 6]])\n"
     ]
    }
   ],
   "source": [
    "A = torch.arange(6).reshape(2, 3)\n",
    "B = torch.tensor([[1, 2], [3, 4], [5, 6]])\n",
    "print(A)\n",
    "print(B)"
   ]
  },
  {
   "cell_type": "markdown",
   "id": "29525266",
   "metadata": {},
   "source": [
    "Matrix–matrix multiplication is performed by torch.mm():"
   ]
  },
  {
   "cell_type": "code",
   "execution_count": 9,
   "id": "9a4bd21e",
   "metadata": {},
   "outputs": [
    {
     "name": "stdout",
     "output_type": "stream",
     "text": [
      "tensor([[13, 16],\n",
      "        [40, 52]])\n"
     ]
    }
   ],
   "source": [
    "C = torch.mm(A, B)\n",
    "print(C)"
   ]
  }
 ],
 "metadata": {
  "kernelspec": {
   "display_name": "Python 3.10.12 64-bit",
   "language": "python",
   "name": "python3"
  },
  "language_info": {
   "codemirror_mode": {
    "name": "ipython",
    "version": 3
   },
   "file_extension": ".py",
   "mimetype": "text/x-python",
   "name": "python",
   "nbconvert_exporter": "python",
   "pygments_lexer": "ipython3",
   "version": "3.10.12"
  },
  "vscode": {
   "interpreter": {
    "hash": "e7370f93d1d0cde622a1f8e1c04877d8463912d04d973331ad4851f04de6915a"
   }
  }
 },
 "nbformat": 4,
 "nbformat_minor": 5
}
