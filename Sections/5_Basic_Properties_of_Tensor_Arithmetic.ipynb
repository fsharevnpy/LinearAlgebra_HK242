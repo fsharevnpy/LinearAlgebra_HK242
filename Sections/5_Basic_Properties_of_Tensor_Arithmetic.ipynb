{
 "cells": [
  {
   "cell_type": "markdown",
   "id": "a02806bd",
   "metadata": {},
   "source": [
    "# 5. Basic Properties of Tensor Arithmetic\n",
    "From [D2L.ai Linear Algebra](https://d2l.ai/chapter_preliminaries/linear-algebra.html)\n",
    "\n",
    "---\n"
   ]
  },
  {
   "cell_type": "code",
   "execution_count": 1,
   "id": "7af95e6c",
   "metadata": {},
   "outputs": [],
   "source": [
    "import torch"
   ]
  },
  {
   "cell_type": "markdown",
   "id": "7c9aba1a",
   "metadata": {},
   "source": [
    "In PyTorch, element-wise operations, broadcasting and Hadamard product can be implemented as the following examples:"
   ]
  },
  {
   "cell_type": "markdown",
   "id": "ee0e1014",
   "metadata": {},
   "source": [
    "Initialize three tensors A, B and C"
   ]
  },
  {
   "cell_type": "code",
   "execution_count": 2,
   "id": "975432b9",
   "metadata": {},
   "outputs": [],
   "source": [
    "A = torch.tensor([[1, 2], [3, 4]])\n",
    "B = torch.tensor([[10, 20], [30, 40]])\n",
    "C = torch.tensor([10, 20])"
   ]
  },
  {
   "cell_type": "markdown",
   "id": "a976d6c0",
   "metadata": {},
   "source": [
    "- Element-wise addition\n"
   ]
  },
  {
   "cell_type": "code",
   "execution_count": 3,
   "id": "18cba3a6",
   "metadata": {},
   "outputs": [
    {
     "name": "stdout",
     "output_type": "stream",
     "text": [
      "tensor([[11, 22],\n",
      "        [33, 44]])\n"
     ]
    }
   ],
   "source": [
    "add = A + B\n",
    "print(add)"
   ]
  },
  {
   "cell_type": "markdown",
   "id": "a6631b97",
   "metadata": {},
   "source": [
    "- Element-wise multiplication"
   ]
  },
  {
   "cell_type": "code",
   "execution_count": 4,
   "id": "70c8fd7d",
   "metadata": {},
   "outputs": [
    {
     "name": "stdout",
     "output_type": "stream",
     "text": [
      "tensor([[ 10,  40],\n",
      "        [ 90, 160]])\n"
     ]
    }
   ],
   "source": [
    "mul = A * B\n",
    "print(mul)"
   ]
  },
  {
   "cell_type": "markdown",
   "id": "810ab358",
   "metadata": {},
   "source": [
    "- C is 1D but gets automatically expanded to match A’s shape"
   ]
  },
  {
   "cell_type": "code",
   "execution_count": 5,
   "id": "ddb25c73",
   "metadata": {},
   "outputs": [
    {
     "name": "stdout",
     "output_type": "stream",
     "text": [
      "tensor([[11, 22],\n",
      "        [13, 24]])\n"
     ]
    }
   ],
   "source": [
    "broadcast_result = A + C\n",
    "print(broadcast_result)"
   ]
  },
  {
   "cell_type": "markdown",
   "id": "5a32faf2",
   "metadata": {},
   "source": [
    "- In PyTorch, Hadamard product is just element-wise multiplication"
   ]
  },
  {
   "cell_type": "code",
   "execution_count": 6,
   "id": "15b85f9a",
   "metadata": {},
   "outputs": [
    {
     "name": "stdout",
     "output_type": "stream",
     "text": [
      "tensor([[ 10,  40],\n",
      "        [ 90, 160]])\n"
     ]
    }
   ],
   "source": [
    "\n",
    "hadamard = A * B\n",
    "print(hadamard)"
   ]
  }
 ],
 "metadata": {
  "kernelspec": {
   "display_name": "Python 3.10.12 64-bit",
   "language": "python",
   "name": "python3"
  },
  "language_info": {
   "codemirror_mode": {
    "name": "ipython",
    "version": 3
   },
   "file_extension": ".py",
   "mimetype": "text/x-python",
   "name": "python",
   "nbconvert_exporter": "python",
   "pygments_lexer": "ipython3",
   "version": "3.10.12"
  },
  "vscode": {
   "interpreter": {
    "hash": "e7370f93d1d0cde622a1f8e1c04877d8463912d04d973331ad4851f04de6915a"
   }
  }
 },
 "nbformat": 4,
 "nbformat_minor": 5
}
