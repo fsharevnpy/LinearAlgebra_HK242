{
 "cells": [
  {
   "cell_type": "markdown",
   "id": "a02806bd",
   "metadata": {},
   "source": [
    "# 5. Basic Properties of Tensor Arithmetic\n",
    "From [D2L.ai Linear Algebra](https://d2l.ai/chapter_preliminaries/linear-algebra.html)\n",
    "\n",
    "---\n"
   ]
  },
  {
   "cell_type": "code",
   "execution_count": 1,
   "id": "7af95e6c",
   "metadata": {},
   "outputs": [],
   "source": [
    "import torch"
   ]
  },
  {
   "cell_type": "markdown",
   "id": "7c9aba1a",
   "metadata": {},
   "source": [
    "In PyTorch, element-wise operations, broadcasting and Hadamard product can be implemented as the following examples:"
   ]
  },
  {
   "cell_type": "code",
   "execution_count": null,
   "id": "15b85f9a",
   "metadata": {},
   "outputs": [],
   "source": [
    "A = torch.tensor([[1, 2], [3, 4]])\n",
    "B = torch.tensor([[10, 20], [30, 40]])\n",
    "# Element-wise addition\n",
    "add = A + B\n",
    "# Element-wise multiplication\n",
    "mul = A * B\n",
    "C = torch.tensor([10, 20])\n",
    "# C is 1D but gets automatically expanded to match A’s shape\n",
    "broadcast_result = A + C\n",
    "# In PyTorch, Hadamard product is just element-wise multiplication\n",
    "hadamard = A * B"
   ]
  }
 ],
 "metadata": {
  "kernelspec": {
   "display_name": "Python 3.10.12 64-bit",
   "language": "python",
   "name": "python3"
  },
  "language_info": {
   "codemirror_mode": {
    "name": "ipython",
    "version": 3
   },
   "file_extension": ".py",
   "mimetype": "text/x-python",
   "name": "python",
   "nbconvert_exporter": "python",
   "pygments_lexer": "ipython3",
   "version": "3.10.12"
  },
  "vscode": {
   "interpreter": {
    "hash": "e7370f93d1d0cde622a1f8e1c04877d8463912d04d973331ad4851f04de6915a"
   }
  }
 },
 "nbformat": 4,
 "nbformat_minor": 5
}
