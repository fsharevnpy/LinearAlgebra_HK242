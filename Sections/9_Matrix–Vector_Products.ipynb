{
 "cells": [
  {
   "cell_type": "markdown",
   "id": "5c616d85",
   "metadata": {},
   "source": [
    "# 9. Matrix–Vector Products\n",
    "From [D2L.ai Linear Algebra](https://d2l.ai/chapter_preliminaries/linear-algebra.html)\n",
    "\n",
    "---\n"
   ]
  },
  {
   "cell_type": "code",
   "execution_count": 7,
   "id": "47638e1d",
   "metadata": {},
   "outputs": [],
   "source": [
    "import torch"
   ]
  },
  {
   "cell_type": "markdown",
   "id": "b957ed31",
   "metadata": {},
   "source": [
    "Initialize a matrix A and a vector x:"
   ]
  },
  {
   "cell_type": "code",
   "execution_count": 8,
   "id": "80f8eec1",
   "metadata": {},
   "outputs": [
    {
     "name": "stdout",
     "output_type": "stream",
     "text": [
      "tensor([[0, 1, 2],\n",
      "        [3, 4, 5]])\n",
      "tensor([1, 2, 3])\n"
     ]
    }
   ],
   "source": [
    "A = torch.arange(6).reshape(2, 3)\n",
    "x = torch.tensor([1, 2, 3])\n",
    "print(A)\n",
    "print(x)"
   ]
  },
  {
   "cell_type": "markdown",
   "id": "54bc0b40",
   "metadata": {},
   "source": [
    "the matrix–vector product can be computed using torch.mv():"
   ]
  },
  {
   "cell_type": "code",
   "execution_count": 9,
   "id": "924f64db",
   "metadata": {},
   "outputs": [
    {
     "name": "stdout",
     "output_type": "stream",
     "text": [
      "tensor([ 8, 26])\n"
     ]
    }
   ],
   "source": [
    "y = torch.mv(A, x)\n",
    "print(y)"
   ]
  }
 ],
 "metadata": {
  "kernelspec": {
   "display_name": "Python 3.10.12 64-bit",
   "language": "python",
   "name": "python3"
  },
  "language_info": {
   "codemirror_mode": {
    "name": "ipython",
    "version": 3
   },
   "file_extension": ".py",
   "mimetype": "text/x-python",
   "name": "python",
   "nbconvert_exporter": "python",
   "pygments_lexer": "ipython3",
   "version": "3.10.12"
  },
  "vscode": {
   "interpreter": {
    "hash": "e7370f93d1d0cde622a1f8e1c04877d8463912d04d973331ad4851f04de6915a"
   }
  }
 },
 "nbformat": 4,
 "nbformat_minor": 5
}
