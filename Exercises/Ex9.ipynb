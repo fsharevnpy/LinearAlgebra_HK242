{
 "cells": [
  {
   "cell_type": "code",
   "execution_count": 1,
   "metadata": {},
   "outputs": [
    {
     "name": "stdout",
     "output_type": "stream",
     "text": [
      "X = [[[9 0 8 4]\n",
      "  [0 0 3 4]\n",
      "  [3 8 2 3]]\n",
      "\n",
      " [[9 2 6 8]\n",
      "  [3 0 8 7]\n",
      "  [4 5 8 7]]]\n",
      "len(X) = 2\n",
      "linalg.norm(X) = 27.073972741361768\n"
     ]
    }
   ],
   "source": [
    "import numpy as np\n",
    "if __name__ == \"__main__\":\n",
    "    X = np.random.randint(low=0, high=10, size=(2, 3, 4))\n",
    "    print('X =', X)\n",
    "    print('len(X) =', len(X))\n",
    "    print('linalg.norm(X) =', np.linalg.norm(X))"
   ]
  }
 ],
 "metadata": {
  "kernelspec": {
   "display_name": "Python 3.10.12 64-bit",
   "language": "python",
   "name": "python3"
  },
  "language_info": {
   "codemirror_mode": {
    "name": "ipython",
    "version": 3
   },
   "file_extension": ".py",
   "mimetype": "text/x-python",
   "name": "python",
   "nbconvert_exporter": "python",
   "pygments_lexer": "ipython3",
   "version": "3.10.12"
  },
  "orig_nbformat": 4,
  "vscode": {
   "interpreter": {
    "hash": "e7370f93d1d0cde622a1f8e1c04877d8463912d04d973331ad4851f04de6915a"
   }
  }
 },
 "nbformat": 4,
 "nbformat_minor": 2
}
