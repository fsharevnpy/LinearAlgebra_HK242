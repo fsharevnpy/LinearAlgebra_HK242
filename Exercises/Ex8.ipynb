{
 "cells": [
  {
   "cell_type": "code",
   "execution_count": 1,
   "metadata": {},
   "outputs": [
    {
     "name": "stdout",
     "output_type": "stream",
     "text": [
      "Given tensor (shape (2, 3, 4)):\n",
      "[[[9 5 5 9]\n",
      "  [7 7 3 1]\n",
      "  [8 6 9 8]]\n",
      "\n",
      " [[8 6 0 2]\n",
      "  [0 6 2 0]\n",
      "  [4 7 8 3]]]\n",
      "\n",
      "Summation along axis 0 (shape (3, 4)):\n",
      "[[17 11  5 11]\n",
      " [ 7 13  5  1]\n",
      " [12 13 17 11]]\n",
      "\n",
      "Summation along axis 1 (shape (2, 4)):\n",
      "[[24 18 17 18]\n",
      " [12 19 10  5]]\n",
      "\n",
      "Summation along axis 2 (shape (2, 3)):\n",
      "[[28 18 31]\n",
      " [16  8 22]]\n"
     ]
    }
   ],
   "source": [
    "import numpy as np\n",
    "if __name__ == \"__main__\":\n",
    "    tensor = np.random.randint(0, 10, size=(2, 3, 4))\n",
    "    print(\"Given tensor (shape {}):\".format(tensor.shape))\n",
    "    print(tensor)\n",
    "    sum_axis0 = np.sum(tensor, axis=0)\n",
    "    print(\"\\nSummation along axis 0 (shape {}):\".format(sum_axis0.shape))\n",
    "    print(sum_axis0)\n",
    "    sum_axis1 = np.sum(tensor, axis=1)\n",
    "    print(\"\\nSummation along axis 1 (shape {}):\".format(sum_axis1.shape))\n",
    "    print(sum_axis1)\n",
    "    sum_axis2 = np.sum(tensor, axis=2)\n",
    "    print(\"\\nSummation along axis 2 (shape {}):\".format(sum_axis2.shape))\n",
    "    print(sum_axis2)\n"
   ]
  }
 ],
 "metadata": {
  "kernelspec": {
   "display_name": "Python 3.10.12 64-bit",
   "language": "python",
   "name": "python3"
  },
  "language_info": {
   "codemirror_mode": {
    "name": "ipython",
    "version": 3
   },
   "file_extension": ".py",
   "mimetype": "text/x-python",
   "name": "python",
   "nbconvert_exporter": "python",
   "pygments_lexer": "ipython3",
   "version": "3.10.12"
  },
  "orig_nbformat": 4,
  "vscode": {
   "interpreter": {
    "hash": "e7370f93d1d0cde622a1f8e1c04877d8463912d04d973331ad4851f04de6915a"
   }
  }
 },
 "nbformat": 4,
 "nbformat_minor": 2
}
